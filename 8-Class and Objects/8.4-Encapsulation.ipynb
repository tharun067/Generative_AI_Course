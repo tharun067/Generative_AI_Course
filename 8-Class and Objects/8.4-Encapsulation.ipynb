{
 "cells": [
  {
   "cell_type": "markdown",
   "id": "47a14eac",
   "metadata": {},
   "source": [
    "#### Encapsulation And Abstraction\n",
    "Encapsulation and abstraction are two fundamental principles of Object-Oriented Programming (OOP) that help in designing robust, maintainable, and reusable code. Encapsulation involves bundling data and methods that operate on the data within a single unit, while abstraction involves hiding complex implementation details and exposing only the necessary features."
   ]
  },
  {
   "cell_type": "markdown",
   "id": "5931bd91",
   "metadata": {},
   "source": [
    "##### Encapsulation\n",
    "Encapsulation is the concept of wrapping data (variables) and methods (functions) together as a single unit. It restricts direct access to some of the object's components, which is a means of preventing accidental interference and misuse of the data.\n"
   ]
  },
  {
   "cell_type": "code",
   "execution_count": 1,
   "id": "1abe085d",
   "metadata": {},
   "outputs": [
    {
     "data": {
      "text/plain": [
       "'Krish'"
      ]
     },
     "execution_count": 1,
     "metadata": {},
     "output_type": "execute_result"
    }
   ],
   "source": [
    "## Encapsulation with Getter and Setter Methods\n",
    "## Public, Protected and Private Varaibles or access modifiers\n",
    "\n",
    "class Person:\n",
    "    def __init__(self, name, age):\n",
    "        self.name =name  # Public variable\n",
    "        self.age = age   # Public variable\n",
    "    \n",
    "def get_name(person):\n",
    "    return person.name\n",
    "\n",
    "person = Person(\"Krish\", 30)\n",
    "get_name(person)"
   ]
  },
  {
   "cell_type": "code",
   "execution_count": 2,
   "id": "d1e4dfef",
   "metadata": {},
   "outputs": [
    {
     "data": {
      "text/plain": [
       "['__class__',\n",
       " '__delattr__',\n",
       " '__dict__',\n",
       " '__dir__',\n",
       " '__doc__',\n",
       " '__eq__',\n",
       " '__format__',\n",
       " '__ge__',\n",
       " '__getattribute__',\n",
       " '__getstate__',\n",
       " '__gt__',\n",
       " '__hash__',\n",
       " '__init__',\n",
       " '__init_subclass__',\n",
       " '__le__',\n",
       " '__lt__',\n",
       " '__module__',\n",
       " '__ne__',\n",
       " '__new__',\n",
       " '__reduce__',\n",
       " '__reduce_ex__',\n",
       " '__repr__',\n",
       " '__setattr__',\n",
       " '__sizeof__',\n",
       " '__str__',\n",
       " '__subclasshook__',\n",
       " '__weakref__',\n",
       " 'age',\n",
       " 'name']"
      ]
     },
     "execution_count": 2,
     "metadata": {},
     "output_type": "execute_result"
    }
   ],
   "source": [
    "dir(person)  # To see all attributes and methods of the object"
   ]
  },
  {
   "cell_type": "code",
   "execution_count": 3,
   "id": "7e5917a1",
   "metadata": {},
   "outputs": [
    {
     "ename": "AttributeError",
     "evalue": "'Person' object has no attribute '__name'",
     "output_type": "error",
     "traceback": [
      "\u001b[31m---------------------------------------------------------------------------\u001b[39m",
      "\u001b[31mAttributeError\u001b[39m                            Traceback (most recent call last)",
      "\u001b[36mCell\u001b[39m\u001b[36m \u001b[39m\u001b[32mIn[3]\u001b[39m\u001b[32m, line 11\u001b[39m\n\u001b[32m      8\u001b[39m     \u001b[38;5;28;01mreturn\u001b[39;00m person.__name\n\u001b[32m     10\u001b[39m person = Person(\u001b[33m\"\u001b[39m\u001b[33mKrish\u001b[39m\u001b[33m\"\u001b[39m, \u001b[32m30\u001b[39m,\u001b[33m\"\u001b[39m\u001b[33mMale\u001b[39m\u001b[33m\"\u001b[39m)\n\u001b[32m---> \u001b[39m\u001b[32m11\u001b[39m \u001b[43mget_name\u001b[49m\u001b[43m(\u001b[49m\u001b[43mperson\u001b[49m\u001b[43m)\u001b[49m\n",
      "\u001b[36mCell\u001b[39m\u001b[36m \u001b[39m\u001b[32mIn[3]\u001b[39m\u001b[32m, line 8\u001b[39m, in \u001b[36mget_name\u001b[39m\u001b[34m(person)\u001b[39m\n\u001b[32m      7\u001b[39m \u001b[38;5;28;01mdef\u001b[39;00m\u001b[38;5;250m \u001b[39m\u001b[34mget_name\u001b[39m(person):\n\u001b[32m----> \u001b[39m\u001b[32m8\u001b[39m     \u001b[38;5;28;01mreturn\u001b[39;00m \u001b[43mperson\u001b[49m\u001b[43m.\u001b[49m\u001b[43m__name\u001b[49m\n",
      "\u001b[31mAttributeError\u001b[39m: 'Person' object has no attribute '__name'"
     ]
    }
   ],
   "source": [
    "class Person:\n",
    "    def __init__(self, name, age, gender):\n",
    "        self.__name =name  # Private variable\n",
    "        self.__age = age   # Private variable\n",
    "        self.gender = gender\n",
    "    \n",
    "def get_name(person):\n",
    "    return person.__name\n",
    "\n",
    "person = Person(\"Krish\", 30,\"Male\")\n",
    "get_name(person)"
   ]
  },
  {
   "cell_type": "code",
   "execution_count": 4,
   "id": "459a7cd9",
   "metadata": {},
   "outputs": [
    {
     "data": {
      "text/plain": [
       "['_Person__age',\n",
       " '_Person__name',\n",
       " '__class__',\n",
       " '__delattr__',\n",
       " '__dict__',\n",
       " '__dir__',\n",
       " '__doc__',\n",
       " '__eq__',\n",
       " '__format__',\n",
       " '__ge__',\n",
       " '__getattribute__',\n",
       " '__getstate__',\n",
       " '__gt__',\n",
       " '__hash__',\n",
       " '__init__',\n",
       " '__init_subclass__',\n",
       " '__le__',\n",
       " '__lt__',\n",
       " '__module__',\n",
       " '__ne__',\n",
       " '__new__',\n",
       " '__reduce__',\n",
       " '__reduce_ex__',\n",
       " '__repr__',\n",
       " '__setattr__',\n",
       " '__sizeof__',\n",
       " '__str__',\n",
       " '__subclasshook__',\n",
       " '__weakref__',\n",
       " 'gender']"
      ]
     },
     "execution_count": 4,
     "metadata": {},
     "output_type": "execute_result"
    }
   ],
   "source": [
    "dir(person)"
   ]
  },
  {
   "cell_type": "code",
   "execution_count": 5,
   "id": "df5c4023",
   "metadata": {},
   "outputs": [
    {
     "name": "stdout",
     "output_type": "stream",
     "text": [
      "Krish\n"
     ]
    }
   ],
   "source": [
    "class Person:\n",
    "    def __init__(self, name, age, gender):\n",
    "        self._name =name  # Protected variable\n",
    "        self._age = age   # Protected variable\n",
    "        self.gender = gender\n",
    "\n",
    "class Employee(Person):\n",
    "    def __init__(self, name, age, gender):\n",
    "        super().__init__(name, age, gender)\n",
    "\n",
    "employee = Employee(\"Krish\", 34, \"Male\")\n",
    "print(employee._name)"
   ]
  },
  {
   "cell_type": "code",
   "execution_count": 6,
   "id": "0c0cfbfb",
   "metadata": {},
   "outputs": [
    {
     "name": "stdout",
     "output_type": "stream",
     "text": [
      "Krish\n",
      "30\n",
      "35\n",
      "Please enter a valid age\n"
     ]
    }
   ],
   "source": [
    "## Encapulsation with Getter and Setter Methods\n",
    "class Person:\n",
    "    def __init__(self, name, age):\n",
    "        self.__name = name\n",
    "        self.__age = age\n",
    "    \n",
    "    ## Getter method for name\n",
    "    def get_name(self):\n",
    "        return self.__name\n",
    "    \n",
    "    ## Setter method for name\n",
    "    def set_name(self, name):\n",
    "        self.__name = name\n",
    "    \n",
    "    ## Getter method for age\n",
    "    def get_age(self):\n",
    "        return self.__age\n",
    "    \n",
    "    ## Setter method for age\n",
    "    def set_age(self, age):\n",
    "        if age > 0:\n",
    "            self.__age = age\n",
    "        else:\n",
    "            print(\"Please enter a valid age\")\n",
    "\n",
    "person = Person(\"Krish\", 30)\n",
    "print(person.get_name())\n",
    "print(person.get_age())\n",
    "person.set_age(35)\n",
    "print(person.get_age())\n",
    "person.set_age(-5)  # Invalid age"
   ]
  },
  {
   "cell_type": "code",
   "execution_count": null,
   "id": "bcd046ce",
   "metadata": {},
   "outputs": [],
   "source": []
  }
 ],
 "metadata": {
  "kernelspec": {
   "display_name": "Python 3",
   "language": "python",
   "name": "python3"
  },
  "language_info": {
   "codemirror_mode": {
    "name": "ipython",
    "version": 3
   },
   "file_extension": ".py",
   "mimetype": "text/x-python",
   "name": "python",
   "nbconvert_exporter": "python",
   "pygments_lexer": "ipython3",
   "version": "3.12.11"
  }
 },
 "nbformat": 4,
 "nbformat_minor": 5
}
