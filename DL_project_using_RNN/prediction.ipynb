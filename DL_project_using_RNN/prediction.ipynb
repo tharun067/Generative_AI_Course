{
 "cells": [
  {
   "cell_type": "code",
   "execution_count": 1,
   "id": "f188cf85",
   "metadata": {},
   "outputs": [],
   "source": [
    "# Step 1: Import Libraries and Load the Model\n",
    "import numpy as np\n",
    "import tensorflow as tf\n",
    "from tensorflow.keras.datasets import imdb\n",
    "from tensorflow.keras.preprocessing import sequence\n",
    "from tensorflow.keras.models import load_model"
   ]
  },
  {
   "cell_type": "code",
   "execution_count": 2,
   "id": "208c9116",
   "metadata": {},
   "outputs": [],
   "source": [
    "# Load the IMDB dataset and word index\n",
    "word_index = imdb.get_word_index()\n",
    "reverse_word_index = {value: key for (key, value) in word_index.items()}"
   ]
  },
  {
   "cell_type": "code",
   "execution_count": 3,
   "id": "d1fc073b",
   "metadata": {},
   "outputs": [
    {
     "name": "stderr",
     "output_type": "stream",
     "text": [
      "WARNING:absl:Compiled the loaded model, but the compiled metrics have yet to be built. `model.compile_metrics` will be empty until you train or evaluate the model.\n"
     ]
    },
    {
     "data": {
      "text/html": [
       "<pre style=\"white-space:pre;overflow-x:auto;line-height:normal;font-family:Menlo,'DejaVu Sans Mono',consolas,'Courier New',monospace\"><span style=\"font-weight: bold\">Model: \"sequential_1\"</span>\n",
       "</pre>\n"
      ],
      "text/plain": [
       "\u001b[1mModel: \"sequential_1\"\u001b[0m\n"
      ]
     },
     "metadata": {},
     "output_type": "display_data"
    },
    {
     "data": {
      "text/html": [
       "<pre style=\"white-space:pre;overflow-x:auto;line-height:normal;font-family:Menlo,'DejaVu Sans Mono',consolas,'Courier New',monospace\">┏━━━━━━━━━━━━━━━━━━━━━━━━━━━━━━━━━┳━━━━━━━━━━━━━━━━━━━━━━━━┳━━━━━━━━━━━━━━━┓\n",
       "┃<span style=\"font-weight: bold\"> Layer (type)                    </span>┃<span style=\"font-weight: bold\"> Output Shape           </span>┃<span style=\"font-weight: bold\">       Param # </span>┃\n",
       "┡━━━━━━━━━━━━━━━━━━━━━━━━━━━━━━━━━╇━━━━━━━━━━━━━━━━━━━━━━━━╇━━━━━━━━━━━━━━━┩\n",
       "│ embedding_1 (<span style=\"color: #0087ff; text-decoration-color: #0087ff\">Embedding</span>)         │ (<span style=\"color: #00af00; text-decoration-color: #00af00\">32</span>, <span style=\"color: #00af00; text-decoration-color: #00af00\">500</span>, <span style=\"color: #00af00; text-decoration-color: #00af00\">128</span>)         │     <span style=\"color: #00af00; text-decoration-color: #00af00\">1,280,000</span> │\n",
       "├─────────────────────────────────┼────────────────────────┼───────────────┤\n",
       "│ simple_rnn_1 (<span style=\"color: #0087ff; text-decoration-color: #0087ff\">SimpleRNN</span>)        │ (<span style=\"color: #00af00; text-decoration-color: #00af00\">32</span>, <span style=\"color: #00af00; text-decoration-color: #00af00\">128</span>)              │        <span style=\"color: #00af00; text-decoration-color: #00af00\">32,896</span> │\n",
       "├─────────────────────────────────┼────────────────────────┼───────────────┤\n",
       "│ dense_1 (<span style=\"color: #0087ff; text-decoration-color: #0087ff\">Dense</span>)                 │ (<span style=\"color: #00af00; text-decoration-color: #00af00\">32</span>, <span style=\"color: #00af00; text-decoration-color: #00af00\">1</span>)                │           <span style=\"color: #00af00; text-decoration-color: #00af00\">129</span> │\n",
       "└─────────────────────────────────┴────────────────────────┴───────────────┘\n",
       "</pre>\n"
      ],
      "text/plain": [
       "┏━━━━━━━━━━━━━━━━━━━━━━━━━━━━━━━━━┳━━━━━━━━━━━━━━━━━━━━━━━━┳━━━━━━━━━━━━━━━┓\n",
       "┃\u001b[1m \u001b[0m\u001b[1mLayer (type)                   \u001b[0m\u001b[1m \u001b[0m┃\u001b[1m \u001b[0m\u001b[1mOutput Shape          \u001b[0m\u001b[1m \u001b[0m┃\u001b[1m \u001b[0m\u001b[1m      Param #\u001b[0m\u001b[1m \u001b[0m┃\n",
       "┡━━━━━━━━━━━━━━━━━━━━━━━━━━━━━━━━━╇━━━━━━━━━━━━━━━━━━━━━━━━╇━━━━━━━━━━━━━━━┩\n",
       "│ embedding_1 (\u001b[38;5;33mEmbedding\u001b[0m)         │ (\u001b[38;5;34m32\u001b[0m, \u001b[38;5;34m500\u001b[0m, \u001b[38;5;34m128\u001b[0m)         │     \u001b[38;5;34m1,280,000\u001b[0m │\n",
       "├─────────────────────────────────┼────────────────────────┼───────────────┤\n",
       "│ simple_rnn_1 (\u001b[38;5;33mSimpleRNN\u001b[0m)        │ (\u001b[38;5;34m32\u001b[0m, \u001b[38;5;34m128\u001b[0m)              │        \u001b[38;5;34m32,896\u001b[0m │\n",
       "├─────────────────────────────────┼────────────────────────┼───────────────┤\n",
       "│ dense_1 (\u001b[38;5;33mDense\u001b[0m)                 │ (\u001b[38;5;34m32\u001b[0m, \u001b[38;5;34m1\u001b[0m)                │           \u001b[38;5;34m129\u001b[0m │\n",
       "└─────────────────────────────────┴────────────────────────┴───────────────┘\n"
      ]
     },
     "metadata": {},
     "output_type": "display_data"
    },
    {
     "data": {
      "text/html": [
       "<pre style=\"white-space:pre;overflow-x:auto;line-height:normal;font-family:Menlo,'DejaVu Sans Mono',consolas,'Courier New',monospace\"><span style=\"font-weight: bold\"> Total params: </span><span style=\"color: #00af00; text-decoration-color: #00af00\">1,313,027</span> (5.01 MB)\n",
       "</pre>\n"
      ],
      "text/plain": [
       "\u001b[1m Total params: \u001b[0m\u001b[38;5;34m1,313,027\u001b[0m (5.01 MB)\n"
      ]
     },
     "metadata": {},
     "output_type": "display_data"
    },
    {
     "data": {
      "text/html": [
       "<pre style=\"white-space:pre;overflow-x:auto;line-height:normal;font-family:Menlo,'DejaVu Sans Mono',consolas,'Courier New',monospace\"><span style=\"font-weight: bold\"> Trainable params: </span><span style=\"color: #00af00; text-decoration-color: #00af00\">1,313,025</span> (5.01 MB)\n",
       "</pre>\n"
      ],
      "text/plain": [
       "\u001b[1m Trainable params: \u001b[0m\u001b[38;5;34m1,313,025\u001b[0m (5.01 MB)\n"
      ]
     },
     "metadata": {},
     "output_type": "display_data"
    },
    {
     "data": {
      "text/html": [
       "<pre style=\"white-space:pre;overflow-x:auto;line-height:normal;font-family:Menlo,'DejaVu Sans Mono',consolas,'Courier New',monospace\"><span style=\"font-weight: bold\"> Non-trainable params: </span><span style=\"color: #00af00; text-decoration-color: #00af00\">0</span> (0.00 B)\n",
       "</pre>\n"
      ],
      "text/plain": [
       "\u001b[1m Non-trainable params: \u001b[0m\u001b[38;5;34m0\u001b[0m (0.00 B)\n"
      ]
     },
     "metadata": {},
     "output_type": "display_data"
    },
    {
     "data": {
      "text/html": [
       "<pre style=\"white-space:pre;overflow-x:auto;line-height:normal;font-family:Menlo,'DejaVu Sans Mono',consolas,'Courier New',monospace\"><span style=\"font-weight: bold\"> Optimizer params: </span><span style=\"color: #00af00; text-decoration-color: #00af00\">2</span> (12.00 B)\n",
       "</pre>\n"
      ],
      "text/plain": [
       "\u001b[1m Optimizer params: \u001b[0m\u001b[38;5;34m2\u001b[0m (12.00 B)\n"
      ]
     },
     "metadata": {},
     "output_type": "display_data"
    }
   ],
   "source": [
    "# Load the pre-trained model with ReLU activation\n",
    "model = load_model('simple_rnn_imdb.h5')\n",
    "model.summary()"
   ]
  },
  {
   "cell_type": "code",
   "execution_count": 4,
   "id": "b1982056",
   "metadata": {},
   "outputs": [
    {
     "data": {
      "text/plain": [
       "[array([[-4.84849542e-01, -1.41912472e+00, -4.93825614e-01, ...,\n",
       "          4.18439984e-01,  1.36629725e+00, -4.13000077e-01],\n",
       "        [-6.96534216e-02, -1.01214096e-01,  1.96880102e-03, ...,\n",
       "          7.86627680e-02,  6.06788881e-02, -5.55459596e-02],\n",
       "        [-1.74638331e-01, -1.93721473e-01, -1.95583031e-01, ...,\n",
       "          1.58100039e-01,  1.45032838e-01,  1.21575044e-02],\n",
       "        ...,\n",
       "        [ 4.26286040e-03, -2.22152844e-02, -2.01938711e-02, ...,\n",
       "         -1.51592409e-02, -3.98012251e-02,  8.29175953e-03],\n",
       "        [-9.74988844e-03, -2.03185827e-02,  5.91075495e-02, ...,\n",
       "         -6.86027342e-03,  5.82873039e-02, -1.18536875e-03],\n",
       "        [ 1.00303851e-01,  7.23684579e-02, -9.28090289e-02, ...,\n",
       "          4.76068519e-02, -9.48593616e-02, -3.78361717e-02]],\n",
       "       shape=(10000, 128), dtype=float32),\n",
       " array([[ 0.14323203, -0.03795995,  0.00358572, ..., -0.03748154,\n",
       "         -0.10053053, -0.04094247],\n",
       "        [ 0.07487544,  0.11761222,  0.07128007, ..., -0.14371575,\n",
       "         -0.06976927,  0.12282108],\n",
       "        [ 0.04040289,  0.03491747,  0.11398971, ...,  0.04488982,\n",
       "          0.11238658, -0.04428175],\n",
       "        ...,\n",
       "        [ 0.01093537, -0.07809459,  0.01219511, ..., -0.11945525,\n",
       "          0.09270348,  0.05038875],\n",
       "        [-0.04989464, -0.02870074, -0.06799851, ...,  0.0430303 ,\n",
       "          0.11083096, -0.13306178],\n",
       "        [-0.02362194,  0.11612006,  0.12475465, ..., -0.05599171,\n",
       "          0.09658938,  0.10867532]], shape=(128, 128), dtype=float32),\n",
       " array([[-1.7929129e-02,  8.9219511e-02,  2.2259946e-01, ...,\n",
       "          9.8353624e-02,  1.5306109e-01,  2.8628435e-02],\n",
       "        [-3.7592076e-02, -3.0890847e-02,  1.9402962e-02, ...,\n",
       "          5.5417870e-03,  4.6263805e-05, -8.8860862e-02],\n",
       "        [ 1.3534260e-01, -1.5367422e-01, -1.0995077e-01, ...,\n",
       "         -1.8441407e-02,  1.6286418e-02,  1.8365815e-01],\n",
       "        ...,\n",
       "        [-2.1650709e-01,  2.2375552e-01,  1.7410697e-01, ...,\n",
       "         -1.1419695e-02,  5.1565032e-02,  1.0949551e-01],\n",
       "        [ 3.1680235e-01, -1.0620977e-01,  2.4985433e-02, ...,\n",
       "         -4.2274468e-02,  5.4558415e-02, -7.9894990e-02],\n",
       "        [-8.4625669e-02,  1.8911006e-02, -3.9154895e-02, ...,\n",
       "         -5.0048761e-02,  7.6639771e-02, -1.0119448e-01]],\n",
       "       shape=(128, 128), dtype=float32),\n",
       " array([ 0.05153072, -0.02295423,  0.00742443,  0.00217734,  0.02740653,\n",
       "        -0.00840059,  0.00244657, -0.03304538,  0.02313167,  0.00770699,\n",
       "        -0.02964365,  0.02350559, -0.03456004, -0.04284065, -0.0240391 ,\n",
       "        -0.03138424, -0.00930963, -0.01221218, -0.02191822, -0.01290558,\n",
       "        -0.00316762, -0.02122263,  0.00210638, -0.03502506, -0.02803637,\n",
       "        -0.03642431, -0.00114912,  0.00757856,  0.02058595, -0.01831636,\n",
       "        -0.01265862, -0.00612178, -0.02689487, -0.01342626, -0.02040447,\n",
       "         0.00314827, -0.03250599, -0.00839428, -0.00453011, -0.03605762,\n",
       "         0.00733771, -0.00014623, -0.01979507, -0.02432039, -0.01739367,\n",
       "        -0.04291794, -0.0502904 , -0.0278403 ,  0.03084791, -0.01052917,\n",
       "        -0.03420906, -0.03000612, -0.04292383, -0.04444626, -0.00745191,\n",
       "        -0.02082373, -0.0054426 , -0.00453382, -0.01299821, -0.04302645,\n",
       "        -0.04174549, -0.00971356, -0.0291206 , -0.03775113, -0.02091925,\n",
       "         0.01885557, -0.03299382, -0.03323876,  0.00220617, -0.01678502,\n",
       "        -0.02448899, -0.03368277,  0.00727352, -0.01674444, -0.031675  ,\n",
       "        -0.02083753, -0.00664757, -0.06641039,  0.01772701,  0.00492728,\n",
       "        -0.00418321, -0.04297997, -0.03157629,  0.02435194,  0.02395614,\n",
       "        -0.03236465,  0.0034521 , -0.02030253, -0.01774052, -0.02904205,\n",
       "        -0.00764581,  0.02083405, -0.07425438, -0.0119866 , -0.03435015,\n",
       "        -0.00744489, -0.00719517, -0.01200135, -0.03876445, -0.00871283,\n",
       "        -0.00711796, -0.02833435, -0.01048566, -0.0163092 ,  0.04096784,\n",
       "        -0.02645729, -0.03824709, -0.02347208, -0.04015363, -0.01090171,\n",
       "        -0.02007105, -0.03391031,  0.0316432 ,  0.01426759, -0.02100581,\n",
       "         0.01162005, -0.0181921 , -0.04320238, -0.00514277,  0.02014663,\n",
       "        -0.00953771, -0.01333901, -0.0114675 , -0.00144778, -0.00232124,\n",
       "        -0.02978784, -0.03782052, -0.02944055], dtype=float32),\n",
       " array([[ 0.22477008],\n",
       "        [ 0.07867375],\n",
       "        [-0.21747369],\n",
       "        [-0.00596336],\n",
       "        [ 0.09030812],\n",
       "        [ 0.14692938],\n",
       "        [ 0.19612223],\n",
       "        [-0.07758582],\n",
       "        [-0.04674174],\n",
       "        [-0.13521318],\n",
       "        [-0.07095527],\n",
       "        [-0.11651155],\n",
       "        [-0.13265292],\n",
       "        [-0.09478401],\n",
       "        [-0.33002022],\n",
       "        [-0.24106663],\n",
       "        [-0.08623358],\n",
       "        [ 0.28256205],\n",
       "        [-0.1736568 ],\n",
       "        [-0.04597498],\n",
       "        [ 0.03650031],\n",
       "        [-0.10663512],\n",
       "        [-0.10018461],\n",
       "        [-0.69754404],\n",
       "        [-0.17000996],\n",
       "        [-0.02817311],\n",
       "        [ 0.24939206],\n",
       "        [-0.267411  ],\n",
       "        [ 0.04093722],\n",
       "        [-0.06862046],\n",
       "        [-0.1222758 ],\n",
       "        [ 0.19213158],\n",
       "        [ 0.20650725],\n",
       "        [ 0.11076613],\n",
       "        [-0.16610232],\n",
       "        [-0.42814612],\n",
       "        [-0.09968962],\n",
       "        [ 0.22367206],\n",
       "        [-0.3599082 ],\n",
       "        [-0.17971012],\n",
       "        [ 0.06457991],\n",
       "        [ 0.14574935],\n",
       "        [ 0.08315276],\n",
       "        [-0.24122275],\n",
       "        [ 0.1460882 ],\n",
       "        [ 0.02447062],\n",
       "        [-0.09904886],\n",
       "        [-0.04000562],\n",
       "        [ 0.00674422],\n",
       "        [ 0.07654751],\n",
       "        [-0.1500424 ],\n",
       "        [-0.14188862],\n",
       "        [-0.01295142],\n",
       "        [-0.1310129 ],\n",
       "        [ 0.20216733],\n",
       "        [ 0.20343742],\n",
       "        [ 0.11537168],\n",
       "        [ 0.20165078],\n",
       "        [-0.06147194],\n",
       "        [-0.09885753],\n",
       "        [-0.08756468],\n",
       "        [-0.0834411 ],\n",
       "        [-0.13639751],\n",
       "        [-0.1023626 ],\n",
       "        [-0.07897169],\n",
       "        [-0.05214068],\n",
       "        [ 0.10961068],\n",
       "        [-0.22402428],\n",
       "        [ 0.37516943],\n",
       "        [ 0.11537721],\n",
       "        [-0.1583853 ],\n",
       "        [-0.055008  ],\n",
       "        [ 0.19541882],\n",
       "        [ 0.08585685],\n",
       "        [ 0.05470129],\n",
       "        [-0.10675034],\n",
       "        [ 0.23011799],\n",
       "        [-0.43481368],\n",
       "        [-0.25842118],\n",
       "        [-0.19352894],\n",
       "        [-0.01872667],\n",
       "        [-0.11460577],\n",
       "        [ 0.16071211],\n",
       "        [-0.00510501],\n",
       "        [-0.20686094],\n",
       "        [ 0.10033003],\n",
       "        [ 0.19577733],\n",
       "        [-0.03036021],\n",
       "        [-0.1957509 ],\n",
       "        [-0.16520686],\n",
       "        [ 0.06486308],\n",
       "        [-0.0438507 ],\n",
       "        [ 0.06703442],\n",
       "        [ 0.19715115],\n",
       "        [-0.1585365 ],\n",
       "        [ 0.25901657],\n",
       "        [ 0.07216118],\n",
       "        [-0.0682677 ],\n",
       "        [-0.01806861],\n",
       "        [-0.12406578],\n",
       "        [-0.29529375],\n",
       "        [-0.2429694 ],\n",
       "        [ 0.16048405],\n",
       "        [-0.01623893],\n",
       "        [ 0.03358043],\n",
       "        [ 0.06925283],\n",
       "        [-0.0909011 ],\n",
       "        [-0.1984546 ],\n",
       "        [-0.1083198 ],\n",
       "        [-0.6545633 ],\n",
       "        [-0.6443375 ],\n",
       "        [ 0.01774419],\n",
       "        [-0.16553786],\n",
       "        [-0.19225693],\n",
       "        [-0.22329529],\n",
       "        [ 0.16853239],\n",
       "        [-0.02235581],\n",
       "        [-0.05523494],\n",
       "        [ 0.11876483],\n",
       "        [-0.09072676],\n",
       "        [ 0.19666842],\n",
       "        [-0.5161134 ],\n",
       "        [ 0.18753214],\n",
       "        [-0.0257515 ],\n",
       "        [ 0.02400945],\n",
       "        [ 0.17210336],\n",
       "        [ 0.08639561],\n",
       "        [-0.17982522]], dtype=float32),\n",
       " array([-0.72199136], dtype=float32)]"
      ]
     },
     "execution_count": 4,
     "metadata": {},
     "output_type": "execute_result"
    }
   ],
   "source": [
    "model.get_weights()"
   ]
  },
  {
   "cell_type": "code",
   "execution_count": 5,
   "id": "110f28dc",
   "metadata": {},
   "outputs": [],
   "source": [
    "# Step 2: Helper Functions\n",
    "# Function to decode reviews from integers to words\n",
    "def decode_review(encoded_review):\n",
    "    return ' '.join([reverse_word_index.get(i - 3, '?') for i in encoded_review])\n",
    "\n",
    "# Function to preprocess user input\n",
    "def preprocess_text(text):\n",
    "    # Tokenize the review\n",
    "    tokens = text.lower().split()\n",
    "    # Convert words to integers based on the word index\n",
    "    encoded_review = [word_index.get(word, 2) + 3 for word in tokens]  # 2 is for unknown words\n",
    "    # Pad the sequence to ensure consistent input length\n",
    "    padded_review = sequence.pad_sequences([encoded_review], maxlen=500)\n",
    "    return padded_review"
   ]
  },
  {
   "cell_type": "code",
   "execution_count": 6,
   "id": "e5c839f8",
   "metadata": {},
   "outputs": [],
   "source": [
    "### Prediction  function\n",
    "\n",
    "def predict_sentiment(review):\n",
    "    preprocessed_input=preprocess_text(review)\n",
    "\n",
    "    prediction=model.predict(preprocessed_input)\n",
    "\n",
    "    sentiment = 'Positive' if prediction[0][0] > 0.5 else 'Negative'\n",
    "    \n",
    "    return sentiment, prediction[0][0]\n",
    "\n"
   ]
  },
  {
   "cell_type": "code",
   "execution_count": 7,
   "id": "9b437364",
   "metadata": {},
   "outputs": [
    {
     "name": "stdout",
     "output_type": "stream",
     "text": [
      "\u001b[1m1/1\u001b[0m \u001b[32m━━━━━━━━━━━━━━━━━━━━\u001b[0m\u001b[37m\u001b[0m \u001b[1m0s\u001b[0m 187ms/step\n",
      "Review: This movie was fantastic! The acting was great and the plot was thrilling.\n",
      "Sentiment: Negative\n",
      "Prediction Score: 0.48802709579467773\n"
     ]
    }
   ],
   "source": [
    "# Step 4: User Input and Prediction\n",
    "# Example review for prediction\n",
    "example_review = \"This movie was fantastic! The acting was great and the plot was thrilling.\"\n",
    "\n",
    "sentiment,score=predict_sentiment(example_review)\n",
    "\n",
    "print(f'Review: {example_review}')\n",
    "print(f'Sentiment: {sentiment}')\n",
    "print(f'Prediction Score: {score}')"
   ]
  },
  {
   "cell_type": "code",
   "execution_count": null,
   "id": "b44d688d",
   "metadata": {},
   "outputs": [],
   "source": []
  }
 ],
 "metadata": {
  "kernelspec": {
   "display_name": "Python 3",
   "language": "python",
   "name": "python3"
  },
  "language_info": {
   "codemirror_mode": {
    "name": "ipython",
    "version": 3
   },
   "file_extension": ".py",
   "mimetype": "text/x-python",
   "name": "python",
   "nbconvert_exporter": "python",
   "pygments_lexer": "ipython3",
   "version": "3.12.11"
  }
 },
 "nbformat": 4,
 "nbformat_minor": 5
}
